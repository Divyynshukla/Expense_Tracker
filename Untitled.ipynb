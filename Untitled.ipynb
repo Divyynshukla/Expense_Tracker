{
 "cells": [
  {
   "cell_type": "code",
   "execution_count": null,
   "id": "361e6809",
   "metadata": {},
   "outputs": [],
   "source": [
    "import pandas as pd\n",
    "\n",
    "# Your data\n",
    "data = [\n",
    "    [\"12\", \"On track\", \"16-Aug-23\"],\n",
    "    [\"ABC-13\", \"Draft\", \"20-03-2021\"],\n",
    "    # ... (other data entries)\n",
    "]\n",
    "\n",
    "# Create a pandas DataFrame from the data\n",
    "columns = [\"ID\", \"Status\", \"login\"]\n",
    "df = pd.DataFrame(data, columns=columns)\n",
    "\n",
    "# Convert login column to datetime\n",
    "df['login'] = pd.to_datetime(df['login'], format='%d-%b-%y')\n",
    "\n",
    "# Filter for rows where Status is \"Open - AIV\"\n",
    "open_aiv_rows = df[df['Status'] == 'Open - AIV']\n",
    "\n",
    "result = []\n",
    "\n",
    "for idx, row in open_aiv_rows.iterrows():\n",
    "    current_id = row['ID']\n",
    "    current_date = row['login']\n",
    "    previous_statuses = df[(df['ID'] == current_id) & (df['login'] <= current_date)]['Status']\n",
    "    \n",
    "    if 'Open - AIV' in previous_statuses.values:\n",
    "        open_aiv_index = previous_statuses[previous_statuses == 'Open - AIV'].index[-1]\n",
    "        open_aiv_date = df.at[open_aiv_index, 'login']\n",
    "        result.append([current_id, 'Open - AIV', open_aiv_date])\n",
    "\n",
    "result_df = pd.DataFrame(result, columns=[\"ID\", \"Status\", \"OpenAIVDate\"])\n",
    "print(result_df)\n"
   ]
  }
 ],
 "metadata": {
  "kernelspec": {
   "display_name": "Python 3 (ipykernel)",
   "language": "python",
   "name": "python3"
  },
  "language_info": {
   "codemirror_mode": {
    "name": "ipython",
    "version": 3
   },
   "file_extension": ".py",
   "mimetype": "text/x-python",
   "name": "python",
   "nbconvert_exporter": "python",
   "pygments_lexer": "ipython3",
   "version": "3.11.4"
  }
 },
 "nbformat": 4,
 "nbformat_minor": 5
}
